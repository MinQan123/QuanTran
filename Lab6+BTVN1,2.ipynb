{
  "nbformat": 4,
  "nbformat_minor": 0,
  "metadata": {
    "colab": {
      "provenance": [],
      "gpuType": "T4",
      "authorship_tag": "ABX9TyOAlxlCXGzJlEkdYtyQbnWB",
      "include_colab_link": true
    },
    "kernelspec": {
      "name": "python3",
      "display_name": "Python 3"
    },
    "language_info": {
      "name": "python"
    },
    "accelerator": "GPU"
  },
  "cells": [
    {
      "cell_type": "markdown",
      "metadata": {
        "id": "view-in-github",
        "colab_type": "text"
      },
      "source": [
        "<a href=\"https://colab.research.google.com/github/MinQan123/QuanTran/blob/main/Lab6%2BBTVN1%2C2.ipynb\" target=\"_parent\"><img src=\"https://colab.research.google.com/assets/colab-badge.svg\" alt=\"Open In Colab\"/></a>"
      ]
    },
    {
      "cell_type": "code",
      "execution_count": null,
      "metadata": {
        "colab": {
          "base_uri": "https://localhost:8080/"
        },
        "id": "KC9sccUc6muH",
        "outputId": "d95ca4b6-f403-4030-dfb7-f36565975808"
      },
      "outputs": [
        {
          "output_type": "execute_result",
          "data": {
            "text/plain": [
              "True"
            ]
          },
          "metadata": {},
          "execution_count": 1
        }
      ],
      "source": [
        "import torch\n",
        "torch.cuda.is_available()"
      ]
    },
    {
      "cell_type": "code",
      "source": [
        "import torch\n",
        "import numpy as np\n",
        "import pandas as pd\n",
        "import matplotlib.pyplot as plt\n",
        "\n",
        "df =  pd.read_csv(\"/content/Iris.csv\")\n",
        "df.head()"
      ],
      "metadata": {
        "colab": {
          "base_uri": "https://localhost:8080/",
          "height": 206
        },
        "id": "m_gHL8BS8qlT",
        "outputId": "1ecd558c-0dac-4376-8c14-38e888d899d3"
      },
      "execution_count": 10,
      "outputs": [
        {
          "output_type": "execute_result",
          "data": {
            "text/plain": [
              "   Id  SepalLengthCm  SepalWidthCm  PetalLengthCm  PetalWidthCm      Species\n",
              "0   1            5.1           3.5            1.4           0.2  Iris-setosa\n",
              "1   2            4.9           3.0            1.4           0.2  Iris-setosa\n",
              "2   3            4.7           3.2            1.3           0.2  Iris-setosa\n",
              "3   4            4.6           3.1            1.5           0.2  Iris-setosa\n",
              "4   5            5.0           3.6            1.4           0.2  Iris-setosa"
            ],
            "text/html": [
              "\n",
              "  <div id=\"df-bd64a734-dcf5-40f5-99bb-400f53593e67\" class=\"colab-df-container\">\n",
              "    <div>\n",
              "<style scoped>\n",
              "    .dataframe tbody tr th:only-of-type {\n",
              "        vertical-align: middle;\n",
              "    }\n",
              "\n",
              "    .dataframe tbody tr th {\n",
              "        vertical-align: top;\n",
              "    }\n",
              "\n",
              "    .dataframe thead th {\n",
              "        text-align: right;\n",
              "    }\n",
              "</style>\n",
              "<table border=\"1\" class=\"dataframe\">\n",
              "  <thead>\n",
              "    <tr style=\"text-align: right;\">\n",
              "      <th></th>\n",
              "      <th>Id</th>\n",
              "      <th>SepalLengthCm</th>\n",
              "      <th>SepalWidthCm</th>\n",
              "      <th>PetalLengthCm</th>\n",
              "      <th>PetalWidthCm</th>\n",
              "      <th>Species</th>\n",
              "    </tr>\n",
              "  </thead>\n",
              "  <tbody>\n",
              "    <tr>\n",
              "      <th>0</th>\n",
              "      <td>1</td>\n",
              "      <td>5.1</td>\n",
              "      <td>3.5</td>\n",
              "      <td>1.4</td>\n",
              "      <td>0.2</td>\n",
              "      <td>Iris-setosa</td>\n",
              "    </tr>\n",
              "    <tr>\n",
              "      <th>1</th>\n",
              "      <td>2</td>\n",
              "      <td>4.9</td>\n",
              "      <td>3.0</td>\n",
              "      <td>1.4</td>\n",
              "      <td>0.2</td>\n",
              "      <td>Iris-setosa</td>\n",
              "    </tr>\n",
              "    <tr>\n",
              "      <th>2</th>\n",
              "      <td>3</td>\n",
              "      <td>4.7</td>\n",
              "      <td>3.2</td>\n",
              "      <td>1.3</td>\n",
              "      <td>0.2</td>\n",
              "      <td>Iris-setosa</td>\n",
              "    </tr>\n",
              "    <tr>\n",
              "      <th>3</th>\n",
              "      <td>4</td>\n",
              "      <td>4.6</td>\n",
              "      <td>3.1</td>\n",
              "      <td>1.5</td>\n",
              "      <td>0.2</td>\n",
              "      <td>Iris-setosa</td>\n",
              "    </tr>\n",
              "    <tr>\n",
              "      <th>4</th>\n",
              "      <td>5</td>\n",
              "      <td>5.0</td>\n",
              "      <td>3.6</td>\n",
              "      <td>1.4</td>\n",
              "      <td>0.2</td>\n",
              "      <td>Iris-setosa</td>\n",
              "    </tr>\n",
              "  </tbody>\n",
              "</table>\n",
              "</div>\n",
              "    <div class=\"colab-df-buttons\">\n",
              "\n",
              "  <div class=\"colab-df-container\">\n",
              "    <button class=\"colab-df-convert\" onclick=\"convertToInteractive('df-bd64a734-dcf5-40f5-99bb-400f53593e67')\"\n",
              "            title=\"Convert this dataframe to an interactive table.\"\n",
              "            style=\"display:none;\">\n",
              "\n",
              "  <svg xmlns=\"http://www.w3.org/2000/svg\" height=\"24px\" viewBox=\"0 -960 960 960\">\n",
              "    <path d=\"M120-120v-720h720v720H120Zm60-500h600v-160H180v160Zm220 220h160v-160H400v160Zm0 220h160v-160H400v160ZM180-400h160v-160H180v160Zm440 0h160v-160H620v160ZM180-180h160v-160H180v160Zm440 0h160v-160H620v160Z\"/>\n",
              "  </svg>\n",
              "    </button>\n",
              "\n",
              "  <style>\n",
              "    .colab-df-container {\n",
              "      display:flex;\n",
              "      gap: 12px;\n",
              "    }\n",
              "\n",
              "    .colab-df-convert {\n",
              "      background-color: #E8F0FE;\n",
              "      border: none;\n",
              "      border-radius: 50%;\n",
              "      cursor: pointer;\n",
              "      display: none;\n",
              "      fill: #1967D2;\n",
              "      height: 32px;\n",
              "      padding: 0 0 0 0;\n",
              "      width: 32px;\n",
              "    }\n",
              "\n",
              "    .colab-df-convert:hover {\n",
              "      background-color: #E2EBFA;\n",
              "      box-shadow: 0px 1px 2px rgba(60, 64, 67, 0.3), 0px 1px 3px 1px rgba(60, 64, 67, 0.15);\n",
              "      fill: #174EA6;\n",
              "    }\n",
              "\n",
              "    .colab-df-buttons div {\n",
              "      margin-bottom: 4px;\n",
              "    }\n",
              "\n",
              "    [theme=dark] .colab-df-convert {\n",
              "      background-color: #3B4455;\n",
              "      fill: #D2E3FC;\n",
              "    }\n",
              "\n",
              "    [theme=dark] .colab-df-convert:hover {\n",
              "      background-color: #434B5C;\n",
              "      box-shadow: 0px 1px 3px 1px rgba(0, 0, 0, 0.15);\n",
              "      filter: drop-shadow(0px 1px 2px rgba(0, 0, 0, 0.3));\n",
              "      fill: #FFFFFF;\n",
              "    }\n",
              "  </style>\n",
              "\n",
              "    <script>\n",
              "      const buttonEl =\n",
              "        document.querySelector('#df-bd64a734-dcf5-40f5-99bb-400f53593e67 button.colab-df-convert');\n",
              "      buttonEl.style.display =\n",
              "        google.colab.kernel.accessAllowed ? 'block' : 'none';\n",
              "\n",
              "      async function convertToInteractive(key) {\n",
              "        const element = document.querySelector('#df-bd64a734-dcf5-40f5-99bb-400f53593e67');\n",
              "        const dataTable =\n",
              "          await google.colab.kernel.invokeFunction('convertToInteractive',\n",
              "                                                    [key], {});\n",
              "        if (!dataTable) return;\n",
              "\n",
              "        const docLinkHtml = 'Like what you see? Visit the ' +\n",
              "          '<a target=\"_blank\" href=https://colab.research.google.com/notebooks/data_table.ipynb>data table notebook</a>'\n",
              "          + ' to learn more about interactive tables.';\n",
              "        element.innerHTML = '';\n",
              "        dataTable['output_type'] = 'display_data';\n",
              "        await google.colab.output.renderOutput(dataTable, element);\n",
              "        const docLink = document.createElement('div');\n",
              "        docLink.innerHTML = docLinkHtml;\n",
              "        element.appendChild(docLink);\n",
              "      }\n",
              "    </script>\n",
              "  </div>\n",
              "\n",
              "\n",
              "<div id=\"df-c141a515-5d3c-47b2-9fe1-957586e43ee5\">\n",
              "  <button class=\"colab-df-quickchart\" onclick=\"quickchart('df-c141a515-5d3c-47b2-9fe1-957586e43ee5')\"\n",
              "            title=\"Suggest charts\"\n",
              "            style=\"display:none;\">\n",
              "\n",
              "<svg xmlns=\"http://www.w3.org/2000/svg\" height=\"24px\"viewBox=\"0 0 24 24\"\n",
              "     width=\"24px\">\n",
              "    <g>\n",
              "        <path d=\"M19 3H5c-1.1 0-2 .9-2 2v14c0 1.1.9 2 2 2h14c1.1 0 2-.9 2-2V5c0-1.1-.9-2-2-2zM9 17H7v-7h2v7zm4 0h-2V7h2v10zm4 0h-2v-4h2v4z\"/>\n",
              "    </g>\n",
              "</svg>\n",
              "  </button>\n",
              "\n",
              "<style>\n",
              "  .colab-df-quickchart {\n",
              "      --bg-color: #E8F0FE;\n",
              "      --fill-color: #1967D2;\n",
              "      --hover-bg-color: #E2EBFA;\n",
              "      --hover-fill-color: #174EA6;\n",
              "      --disabled-fill-color: #AAA;\n",
              "      --disabled-bg-color: #DDD;\n",
              "  }\n",
              "\n",
              "  [theme=dark] .colab-df-quickchart {\n",
              "      --bg-color: #3B4455;\n",
              "      --fill-color: #D2E3FC;\n",
              "      --hover-bg-color: #434B5C;\n",
              "      --hover-fill-color: #FFFFFF;\n",
              "      --disabled-bg-color: #3B4455;\n",
              "      --disabled-fill-color: #666;\n",
              "  }\n",
              "\n",
              "  .colab-df-quickchart {\n",
              "    background-color: var(--bg-color);\n",
              "    border: none;\n",
              "    border-radius: 50%;\n",
              "    cursor: pointer;\n",
              "    display: none;\n",
              "    fill: var(--fill-color);\n",
              "    height: 32px;\n",
              "    padding: 0;\n",
              "    width: 32px;\n",
              "  }\n",
              "\n",
              "  .colab-df-quickchart:hover {\n",
              "    background-color: var(--hover-bg-color);\n",
              "    box-shadow: 0 1px 2px rgba(60, 64, 67, 0.3), 0 1px 3px 1px rgba(60, 64, 67, 0.15);\n",
              "    fill: var(--button-hover-fill-color);\n",
              "  }\n",
              "\n",
              "  .colab-df-quickchart-complete:disabled,\n",
              "  .colab-df-quickchart-complete:disabled:hover {\n",
              "    background-color: var(--disabled-bg-color);\n",
              "    fill: var(--disabled-fill-color);\n",
              "    box-shadow: none;\n",
              "  }\n",
              "\n",
              "  .colab-df-spinner {\n",
              "    border: 2px solid var(--fill-color);\n",
              "    border-color: transparent;\n",
              "    border-bottom-color: var(--fill-color);\n",
              "    animation:\n",
              "      spin 1s steps(1) infinite;\n",
              "  }\n",
              "\n",
              "  @keyframes spin {\n",
              "    0% {\n",
              "      border-color: transparent;\n",
              "      border-bottom-color: var(--fill-color);\n",
              "      border-left-color: var(--fill-color);\n",
              "    }\n",
              "    20% {\n",
              "      border-color: transparent;\n",
              "      border-left-color: var(--fill-color);\n",
              "      border-top-color: var(--fill-color);\n",
              "    }\n",
              "    30% {\n",
              "      border-color: transparent;\n",
              "      border-left-color: var(--fill-color);\n",
              "      border-top-color: var(--fill-color);\n",
              "      border-right-color: var(--fill-color);\n",
              "    }\n",
              "    40% {\n",
              "      border-color: transparent;\n",
              "      border-right-color: var(--fill-color);\n",
              "      border-top-color: var(--fill-color);\n",
              "    }\n",
              "    60% {\n",
              "      border-color: transparent;\n",
              "      border-right-color: var(--fill-color);\n",
              "    }\n",
              "    80% {\n",
              "      border-color: transparent;\n",
              "      border-right-color: var(--fill-color);\n",
              "      border-bottom-color: var(--fill-color);\n",
              "    }\n",
              "    90% {\n",
              "      border-color: transparent;\n",
              "      border-bottom-color: var(--fill-color);\n",
              "    }\n",
              "  }\n",
              "</style>\n",
              "\n",
              "  <script>\n",
              "    async function quickchart(key) {\n",
              "      const quickchartButtonEl =\n",
              "        document.querySelector('#' + key + ' button');\n",
              "      quickchartButtonEl.disabled = true;  // To prevent multiple clicks.\n",
              "      quickchartButtonEl.classList.add('colab-df-spinner');\n",
              "      try {\n",
              "        const charts = await google.colab.kernel.invokeFunction(\n",
              "            'suggestCharts', [key], {});\n",
              "      } catch (error) {\n",
              "        console.error('Error during call to suggestCharts:', error);\n",
              "      }\n",
              "      quickchartButtonEl.classList.remove('colab-df-spinner');\n",
              "      quickchartButtonEl.classList.add('colab-df-quickchart-complete');\n",
              "    }\n",
              "    (() => {\n",
              "      let quickchartButtonEl =\n",
              "        document.querySelector('#df-c141a515-5d3c-47b2-9fe1-957586e43ee5 button');\n",
              "      quickchartButtonEl.style.display =\n",
              "        google.colab.kernel.accessAllowed ? 'block' : 'none';\n",
              "    })();\n",
              "  </script>\n",
              "</div>\n",
              "\n",
              "    </div>\n",
              "  </div>\n"
            ],
            "application/vnd.google.colaboratory.intrinsic+json": {
              "type": "dataframe",
              "variable_name": "df",
              "summary": "{\n  \"name\": \"df\",\n  \"rows\": 150,\n  \"fields\": [\n    {\n      \"column\": \"Id\",\n      \"properties\": {\n        \"dtype\": \"number\",\n        \"std\": 43,\n        \"min\": 1,\n        \"max\": 150,\n        \"num_unique_values\": 150,\n        \"samples\": [\n          74,\n          19,\n          119\n        ],\n        \"semantic_type\": \"\",\n        \"description\": \"\"\n      }\n    },\n    {\n      \"column\": \"SepalLengthCm\",\n      \"properties\": {\n        \"dtype\": \"number\",\n        \"std\": 0.8280661279778629,\n        \"min\": 4.3,\n        \"max\": 7.9,\n        \"num_unique_values\": 35,\n        \"samples\": [\n          6.2,\n          4.5,\n          5.6\n        ],\n        \"semantic_type\": \"\",\n        \"description\": \"\"\n      }\n    },\n    {\n      \"column\": \"SepalWidthCm\",\n      \"properties\": {\n        \"dtype\": \"number\",\n        \"std\": 0.4335943113621737,\n        \"min\": 2.0,\n        \"max\": 4.4,\n        \"num_unique_values\": 23,\n        \"samples\": [\n          2.3,\n          4.0,\n          3.5\n        ],\n        \"semantic_type\": \"\",\n        \"description\": \"\"\n      }\n    },\n    {\n      \"column\": \"PetalLengthCm\",\n      \"properties\": {\n        \"dtype\": \"number\",\n        \"std\": 1.7644204199522617,\n        \"min\": 1.0,\n        \"max\": 6.9,\n        \"num_unique_values\": 43,\n        \"samples\": [\n          6.7,\n          3.8,\n          3.7\n        ],\n        \"semantic_type\": \"\",\n        \"description\": \"\"\n      }\n    },\n    {\n      \"column\": \"PetalWidthCm\",\n      \"properties\": {\n        \"dtype\": \"number\",\n        \"std\": 0.7631607417008414,\n        \"min\": 0.1,\n        \"max\": 2.5,\n        \"num_unique_values\": 22,\n        \"samples\": [\n          0.2,\n          1.2,\n          1.3\n        ],\n        \"semantic_type\": \"\",\n        \"description\": \"\"\n      }\n    },\n    {\n      \"column\": \"Species\",\n      \"properties\": {\n        \"dtype\": \"category\",\n        \"num_unique_values\": 3,\n        \"samples\": [\n          \"Iris-setosa\",\n          \"Iris-versicolor\",\n          \"Iris-virginica\"\n        ],\n        \"semantic_type\": \"\",\n        \"description\": \"\"\n      }\n    }\n  ]\n}"
            }
          },
          "metadata": {},
          "execution_count": 10
        }
      ]
    },
    {
      "cell_type": "code",
      "source": [
        "from sklearn.preprocessing import LabelEncoder\n",
        "from sklearn.model_selection import train_test_split\n",
        "\n",
        "le = LabelEncoder()\n",
        "x = df.drop([\"Species\"], axis = 1 ).values\n",
        "y = le.fit_transform(df[\"Species\"].values)\n",
        "\n",
        "x_train, x_test, y_train, y_test = train_test_split(x, y, test_size=0.2, random_state=42)\n",
        "\n",
        "x_train=torch.FloatTensor(x_train)\n",
        "x_test=torch.FloatTensor(x_test)\n",
        "y_train=torch.LongTensor(y_train).reshape(-1,1)\n",
        "y_test=torch.LongTensor(y_test).reshape(-1,1)\n",
        "print(f\"train_size = {len(y_train)}\")"
      ],
      "metadata": {
        "colab": {
          "base_uri": "https://localhost:8080/"
        },
        "id": "19MkoSTi9wAj",
        "outputId": "a72d36a6-f2ea-4dfd-9cf8-1838da5dcc7b"
      },
      "execution_count": 19,
      "outputs": [
        {
          "output_type": "stream",
          "name": "stdout",
          "text": [
            "train_size = 120\n"
          ]
        }
      ]
    },
    {
      "cell_type": "code",
      "source": [
        "labels, counts = y_train.unique(return_counts=True)\n",
        "print(labels,counts)"
      ],
      "metadata": {
        "colab": {
          "base_uri": "https://localhost:8080/"
        },
        "id": "udvzhmqr_oca",
        "outputId": "a25ee2fa-6a43-447e-8c27-69540540d03f"
      },
      "execution_count": 14,
      "outputs": [
        {
          "output_type": "stream",
          "name": "stdout",
          "text": [
            "tensor([0, 1, 2]) tensor([40, 41, 39])\n"
          ]
        }
      ]
    },
    {
      "cell_type": "code",
      "source": [
        "#Tính đạo hàm bằng pytorch\n",
        "#Cho y = 2x^4 + x^3 + 3x^2 +5x + 1\n",
        "#Tính y'\n",
        "\n",
        "\n",
        "import torch\n",
        "#tạo một tensor với requirements_grads được đặt thành true\n",
        "\n",
        "x = torch.tensor(2.0, requires_grad=True)\n",
        "print(x)\n",
        "print(x.grad)\n"
      ],
      "metadata": {
        "colab": {
          "base_uri": "https://localhost:8080/"
        },
        "id": "OB9W7XTsADTL",
        "outputId": "9e58a9aa-436a-4490-c9a2-5fbf91b5cd7a"
      },
      "execution_count": 15,
      "outputs": [
        {
          "output_type": "stream",
          "name": "stdout",
          "text": [
            "tensor(2., requires_grad=True)\n",
            "None\n"
          ]
        }
      ]
    },
    {
      "cell_type": "code",
      "source": [
        "#Định nghĩa hàm\n",
        "y = 2*x**4 + x**3 +3*x**2 +5*x + 1\n",
        "print(y)\n"
      ],
      "metadata": {
        "colab": {
          "base_uri": "https://localhost:8080/"
        },
        "id": "9nwVVGPyAlbK",
        "outputId": "2d0b6082-9775-45f7-e495-f0c3c2630fb1"
      },
      "execution_count": 16,
      "outputs": [
        {
          "output_type": "stream",
          "name": "stdout",
          "text": [
            "tensor(63., grad_fn=<AddBackward0>)\n"
          ]
        }
      ]
    },
    {
      "cell_type": "code",
      "source": [
        "y.grad_fn"
      ],
      "metadata": {
        "colab": {
          "base_uri": "https://localhost:8080/"
        },
        "id": "5reBigEiA0oK",
        "outputId": "30fda80f-e724-4f6f-bff0-bf59ae15acb1"
      },
      "execution_count": 17,
      "outputs": [
        {
          "output_type": "execute_result",
          "data": {
            "text/plain": [
              "<AddBackward0 at 0x79ec3dab1b70>"
            ]
          },
          "metadata": {},
          "execution_count": 17
        }
      ]
    },
    {
      "cell_type": "code",
      "source": [
        "#Thực hiện truyền ngược và tính toán các gradient\n",
        "y.backward()\n",
        "#Kết quả đạo hàm\n",
        "x.grad"
      ],
      "metadata": {
        "colab": {
          "base_uri": "https://localhost:8080/"
        },
        "id": "XD0kuFICA3bJ",
        "outputId": "433017ed-fd0a-4933-c872-4a18507ee4b4"
      },
      "execution_count": 18,
      "outputs": [
        {
          "output_type": "execute_result",
          "data": {
            "text/plain": [
              "tensor(93.)"
            ]
          },
          "metadata": {},
          "execution_count": 18
        }
      ]
    },
    {
      "cell_type": "code",
      "source": [
        "#Bài tập\n",
        "#cho y = 5x^6+3x^3+2x+x+2x+5x^4+1\n",
        "#Cho biết độ dốc của đa thức trên tại điểm nào\n",
        "import torch\n",
        "\n",
        "# Bước 1: Tạo tensor với giá trị ban đầu là 2.0\n",
        "x = torch.tensor(2.0, requires_grad=True)\n",
        "\n",
        "# Bước 2: Định nghĩa hàm\n",
        "def f(x):\n",
        "    return 5 * x**6 + 3 * x**3 + 2 * x + x + 2 * x + 5 * x**4 + 1\n",
        "\n",
        "# Tính giá trị ban đầu của hàm\n",
        "y = f(x)\n",
        "\n",
        "# Tính gradient\n",
        "y.backward()\n",
        "\n",
        "# In giá trị ban đầu và gradient\n",
        "print(\"Giá trị y tại x =\", x.item(), \"là:\", y.item())\n",
        "print(\"Gradient tại x =\", x.item(), \"là:\", x.grad.item())\n",
        "\n",
        "# Bước 3: Cập nhật giá trị của x bằng Gradient Descent\n",
        "alpha = 0.1\n",
        "with torch.no_grad():  # Không theo dõi gradient trong quá trình cập nhật\n",
        "    x -= alpha * x.grad  # Cập nhật giá trị x\n",
        "\n",
        "# Tính lại giá trị y sau khi cập nhật\n",
        "y_new = f(x)\n",
        "\n",
        "# In kết quả sau khi cập nhật\n",
        "print(\"Giá trị x sau khi cập nhật:\", x.item())\n",
        "print(\"Giá trị y mới tại x =\", x.item(), \"là:\", y_new.item())"
      ],
      "metadata": {
        "colab": {
          "base_uri": "https://localhost:8080/"
        },
        "id": "vVqDCgOJBDOJ",
        "outputId": "af17b3cd-19d5-424e-a6bd-f459cf41a0c9"
      },
      "execution_count": 25,
      "outputs": [
        {
          "output_type": "stream",
          "name": "stdout",
          "text": [
            "Giá trị y tại x = 2.0 là: 435.0\n",
            "Gradient tại x = 2.0 là: 1161.0\n",
            "Giá trị x sau khi cập nhật: -114.0999984741211\n",
            "Giá trị y mới tại x = -114.0999984741211 là: 11033593774080.0\n"
          ]
        }
      ]
    },
    {
      "cell_type": "code",
      "source": [
        "#BTVN1\n",
        "#Tạo một tensor có giá trị ban đầu là 2.0\n",
        "#Định nghĩa hàm số và tính gradient\n",
        "#y = x^3 + 2x^2 + 5x + 1\n",
        "#Hãy tính dy/dx tại giá trị của x\n",
        "#Dùng phương pháp Gradient Descent với learning rate alpha = 0.1 để cập nhật giá trị x trong 10 vòng lặp\n",
        "import torch\n",
        "\n",
        "# Tạo tensor với giá trị ban đầu là 2.0\n",
        "x = torch.tensor(2.0, requires_grad=True)\n",
        "\n",
        "# Định nghĩa hàm số\n",
        "def f(x):\n",
        "    return x**3 + 2*x**2 + 5*x + 1\n",
        "\n",
        "# Tính gradient\n",
        "y = f(x)\n",
        "y.backward()  # Tính đạo hàm dy/dx\n",
        "\n",
        "# In ra giá trị của dy/dx\n",
        "print(\"Giá trị dy/dx tại x =\", x.item(), \"là:\", x.grad.item())\n",
        "\n",
        "# Gradient Descent\n",
        "alpha = 0.1  # learning rate\n",
        "for i in range(10):\n",
        "    with torch.no_grad():  # Không tính gradient cho bước cập nhật\n",
        "        x -= alpha * x.grad  # Cập nhật giá trị x\n",
        "    x.grad.zero_()  # Đặt lại gradient sau mỗi bước cập nhật\n",
        "    y = f(x)  # Tính lại hàm số\n",
        "    y.backward()  # Tính lại gradient\n",
        "    print(f\"Vòng lặp {i + 1}: x = {x.item()}, dy/dx = {x.grad.item()}\")"
      ],
      "metadata": {
        "colab": {
          "base_uri": "https://localhost:8080/"
        },
        "id": "a-k_tGdMBE-B",
        "outputId": "27a44ef9-ca08-45bf-c280-68460f4ce57d"
      },
      "execution_count": 22,
      "outputs": [
        {
          "output_type": "stream",
          "name": "stdout",
          "text": [
            "Giá trị dy/dx tại x = 2.0 là: 25.0\n",
            "Vòng lặp 1: x = -0.5, dy/dx = 3.75\n",
            "Vòng lặp 2: x = -0.875, dy/dx = 3.796875\n",
            "Vòng lặp 3: x = -1.2546875476837158, dy/dx = 4.703972339630127\n",
            "Vòng lặp 4: x = -1.7250847816467285, dy/dx = 7.027413368225098\n",
            "Vòng lặp 5: x = -2.427826166152954, dy/dx = 12.971714973449707\n",
            "Vòng lặp 6: x = -3.7249975204467773, dy/dx = 31.726829528808594\n",
            "Vòng lặp 7: x = -6.897680282592773, dy/dx = 120.14325714111328\n",
            "Vòng lặp 8: x = -18.912006378173828, dy/dx = 1002.3439331054688\n",
            "Vòng lặp 9: x = -119.14640808105469, dy/dx = 42116.01171875\n",
            "Vòng lặp 10: x = -4330.74755859375, dy/dx = 56248804.0\n"
          ]
        }
      ]
    },
    {
      "cell_type": "code",
      "source": [
        "#BTVN2\n",
        "#Tạo một tập dữ liệu giả lập với x là số giờ học(ngẫu nhiên từ 1-10) và y là số điểm được tính theo công thức y = 3x + 5 + noise\n",
        "#Với noise là một giá trị ngẫu nhiên nhỏ\n",
        " #1. Khởi tạo tham số w và b ngẫu nhiên với requires_grad = true\n",
        " #2. Tính MSE\n",
        " #3. Tính gradient\n",
        " #4. Cập nhật tham số w và b bằng gradient Descent với Learning rate alpha = 0.01\n",
        " #5. Lặp lại quá trình trên trong 100 vòng lặp và quan sát sự hội tụ của mô hình\n",
        "\n",
        "\n",
        "import torch\n",
        "import numpy as np\n",
        "import matplotlib.pyplot as plt\n",
        "\n",
        "# Tạo dữ liệu giả lập\n",
        "np.random.seed(0)  # Để có kết quả tái lập\n",
        "x = np.random.randint(1, 11, size=100)  # Số giờ học ngẫu nhiên từ 1-10\n",
        "noise = np.random.normal(0, 1, size=x.shape)  # Noise ngẫu nhiên\n",
        "y = 3 * x + 5 + noise  # Công thức tính y\n",
        "\n",
        "# Chuyển đổi dữ liệu sang tensor\n",
        "x_tensor = torch.tensor(x, dtype=torch.float32).view(-1, 1)\n",
        "y_tensor = torch.tensor(y, dtype=torch.float32).view(-1, 1)\n",
        "\n",
        "# Khởi tạo tham số w và b ngẫu nhiên với requires_grad = True\n",
        "w = torch.randn(1, requires_grad=True)\n",
        "b = torch.randn(1, requires_grad=True)\n",
        "\n",
        "# Hyperparameters\n",
        "alpha = 0.01  # learning rate\n",
        "num_epochs = 100  # số vòng lặp\n",
        "\n",
        "# Lưu giá trị MSE để vẽ biểu đồ\n",
        "mse_history = []\n",
        "\n",
        "for epoch in range(num_epochs):\n",
        "    # Dự đoán y\n",
        "    y_pred = x_tensor @ w + b\n",
        "\n",
        "    # Tính MSE\n",
        "    mse = ((y_pred - y_tensor) ** 2).mean()\n",
        "    mse_history.append(mse.item())\n",
        "\n",
        "    # Tính gradient\n",
        "    mse.backward()\n",
        "\n",
        "    # Cập nhật tham số w và b\n",
        "    with torch.no_grad():\n",
        "        w -= alpha * w.grad\n",
        "        b -= alpha * b.grad\n",
        "\n",
        "    # Đặt lại gradient về 0\n",
        "    w.grad.zero_()\n",
        "    b.grad.zero_()\n",
        "\n",
        "# In ra tham số sau khi huấn luyện\n",
        "print(f\"Giá trị w: {w.item()}, Giá trị b: {b.item()}\")\n",
        "\n",
        "# Vẽ biểu đồ MSE qua các vòng lặp\n",
        "plt.plot(mse_history)\n",
        "plt.xlabel('Epoch')\n",
        "plt.ylabel('MSE')\n",
        "plt.title('Giá trị MSE qua các vòng lặp')\n",
        "plt.show()\n"
      ],
      "metadata": {
        "colab": {
          "base_uri": "https://localhost:8080/",
          "height": 489
        },
        "id": "iyzl4RQJHGFy",
        "outputId": "e067ea59-2816-44c1-b2ac-a6b577437985"
      },
      "execution_count": 24,
      "outputs": [
        {
          "output_type": "stream",
          "name": "stdout",
          "text": [
            "Giá trị w: 2.054825782775879, Giá trị b: 7.023909568786621\n"
          ]
        },
        {
          "output_type": "display_data",
          "data": {
            "text/plain": [
              "<Figure size 640x480 with 1 Axes>"
            ],
            "image/png": "[encoded data removed]"
          },
          "metadata": {}
        }
      ]
    },
    {
      "cell_type": "code",
      "source": [
        "#BTVN3,4\n",
        "import torch\n",
        "arr = np.arange(0,5)\n",
        "x = torch.tensor(arr)\n",
        "print(x)  # tensor([0, 1, 2, 3, 4])\n",
        "\n",
        "arr[0] = 99\n",
        "print(x)  # tensor([0, 1, 2, 3, 4])\n",
        "\n",
        "\n",
        "# Tạo tensor rỗng với kích thước (2, 3)\n",
        "x = torch.empty(2, 3)\n",
        "print(x)\n",
        "print(\"               \")\n",
        "# Tạo tensor chứa toàn số 0 với kích thước (2, 3)\n",
        "x = torch.zeros(2, 3)\n",
        "print(x)\n",
        "print(\"               \")\n",
        "# Tạo tensor chứa toàn số 1 với kích thước (2, 3)\n",
        "x = torch.ones(2, 3)\n",
        "print(x)\n",
        "print(\"               \")\n",
        "# Tạo tensor với giá trị ngẫu nhiên từ phân phối đều trong khoảng [0, 1) với kích thước (2, 3)\n",
        "x = torch.rand(2, 3)\n",
        "print(x)\n",
        "print(\"               \")\n",
        "# Tạo tensor với kích thước (2, 3)\n",
        "x = torch.tensor([[1, 2, 3], [4, 5, 6]])\n",
        "print(\"               \")\n",
        "# Reshape tensor thành kích thước (3, 2) sử dụng view\n",
        "y = x.view(3, 2)\n",
        "print(y)\n",
        "print(\"               \")\n",
        "# Reshape tensor thành kích thước của tensor khác sử dụng view_as\n",
        "z = torch.tensor([[1, 2], [3, 4], [5, 6]])\n",
        "y = x.view_as(z)\n",
        "print(y)"
      ],
      "metadata": {
        "colab": {
          "base_uri": "https://localhost:8080/"
        },
        "id": "MBUwNK6hNQ3J",
        "outputId": "2c3e5a6b-e6d7-4e47-8547-19f99bc02ddd"
      },
      "execution_count": 26,
      "outputs": [
        {
          "output_type": "stream",
          "name": "stdout",
          "text": [
            "tensor([0, 1, 2, 3, 4])\n",
            "tensor([0, 1, 2, 3, 4])\n",
            "tensor([[4.4670e+25, 4.3739e-41, 4.9859e-31],\n",
            "        [0.0000e+00, 4.4842e-44, 0.0000e+00]])\n",
            "               \n",
            "tensor([[0., 0., 0.],\n",
            "        [0., 0., 0.]])\n",
            "               \n",
            "tensor([[1., 1., 1.],\n",
            "        [1., 1., 1.]])\n",
            "               \n",
            "tensor([[0.7587, 0.7363, 0.8009],\n",
            "        [0.0660, 0.9493, 0.7202]])\n",
            "               \n",
            "               \n",
            "tensor([[1, 2],\n",
            "        [3, 4],\n",
            "        [5, 6]])\n",
            "               \n",
            "tensor([[1, 2],\n",
            "        [3, 4],\n",
            "        [5, 6]])\n"
          ]
        }
      ]
    }
  ]
}